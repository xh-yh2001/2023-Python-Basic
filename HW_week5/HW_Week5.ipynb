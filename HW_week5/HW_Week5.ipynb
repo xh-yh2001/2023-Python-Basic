{
 "cells": [
  {
   "cell_type": "code",
   "execution_count": 3,
   "metadata": {},
   "outputs": [],
   "source": [
    "# import the related repository\n",
    "import xlrd\n",
    "import xlwt\n",
    "import re\n",
    "\n",
    "# prepare the worksheet\n",
    "workbook = xlwt.Workbook(encoding = 'ascii')\n",
    "worksheet = workbook.add_sheet('NewSheet')\n",
    "\n",
    "# download the data\n",
    "data = xlrd.open_workbook('./H1.xls')\n",
    "sheet1 = data.sheet_by_index(0)\n",
    "\n",
    "# process the data and write out\n",
    "rows, cols = sheet1.nrows, sheet1.ncols\n",
    "reg = \"https.*\"\n",
    "\n",
    "for i in range(1,rows):\n",
    "    link = sheet1.cell_value(i,cols-1)\n",
    "    if re.search(\"http\", link) == None:  \n",
    "        link = sheet1.hyperlink_map.get((i,cols-1)).url_or_path\n",
    "    else:\n",
    "        link = re.search(reg, link).group()\n",
    "    worksheet.write(i-1,0, label = link)\n",
    "workbook.save('./New_H1.xls')"
   ]
  }
 ],
 "metadata": {
  "kernelspec": {
   "display_name": "base",
   "language": "python",
   "name": "python3"
  },
  "language_info": {
   "codemirror_mode": {
    "name": "ipython",
    "version": 3
   },
   "file_extension": ".py",
   "mimetype": "text/x-python",
   "name": "python",
   "nbconvert_exporter": "python",
   "pygments_lexer": "ipython3",
   "version": "3.11.5"
  }
 },
 "nbformat": 4,
 "nbformat_minor": 2
}
