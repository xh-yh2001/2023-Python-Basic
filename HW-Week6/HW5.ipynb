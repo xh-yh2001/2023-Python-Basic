{
 "cells": [
  {
   "cell_type": "markdown",
   "metadata": {},
   "source": [
    "# HW 5 张宇扬 2301212424"
   ]
  },
  {
   "cell_type": "markdown",
   "metadata": {},
   "source": [
    "* HW1 Extract the first page of all pdfs in the \"mypdfs \" folder and merge them into one pdf file named \"new.pdf\""
   ]
  },
  {
   "cell_type": "code",
   "execution_count": 2,
   "metadata": {},
   "outputs": [
    {
     "name": "stdout",
     "output_type": "stream",
     "text": [
      "[WindowsPath('python basic/Week 6/mypdfs/1905.05406.pdf'), WindowsPath('python basic/Week 6/mypdfs/1908.02426.pdf'), WindowsPath('python basic/Week 6/mypdfs/2103.07579.pdf'), WindowsPath('python basic/Week 6/mypdfs/2106.13112.pdf'), WindowsPath('python basic/Week 6/mypdfs/2109.05673.pdf')]\n"
     ]
    }
   ],
   "source": [
    "from pathlib import Path # get pdf names in the folder\n",
    " \n",
    "path = Path(r\"python basic/Week 6/mypdfs\") # Specify the path to the folder containing PDF files\n",
    "pdf_files = [p for p in path.glob(\"*.pdf\")] # Use a list comprehension to get all files in the folder with a \".pdf\" extension\n",
    "print(pdf_files) # Print the list of PDF file names"
   ]
  },
  {
   "cell_type": "code",
   "execution_count": 5,
   "metadata": {},
   "outputs": [
    {
     "name": "stdout",
     "output_type": "stream",
     "text": [
      "['1905.05406_new.pdf', '1908.02426_new.pdf', '2103.07579_new.pdf', '2106.13112_new.pdf', '2109.05673_new.pdf']\n"
     ]
    }
   ],
   "source": [
    "from PyPDF4 import PdfFileReader, PdfFileMerger, PdfFileWriter #merge them into one list\n",
    "newfilelist = []\n",
    "for file in pdf_files: # Iterate over the previously obtained list of PDF files\n",
    "    with open(file, \"rb\") as pdf_file: # Open the current PDF file in binary read mode\n",
    "        pdf = PdfFileReader(pdf_file) # Create a PdfFileReader object to read the PDF file\n",
    "        page = pdf.getPage(0) # Get the first page of the PDF file\n",
    "    \n",
    "        writer = PdfFileWriter() # Create a PdfFileWriter object to write the PDF file\n",
    "        writer.addPage(page) # Add the retrieved page to the new PDF file\n",
    "    \n",
    "    # Construct a new file name by removing the original file extension (.pdf) and adding '_new.pdf' at the end\n",
    "        newfile = file.name[:-4]+'_new.pdf'\n",
    "        newfilelist.append(newfile)\n",
    "        with open(newfile, \"wb\") as output:\n",
    "             writer.write(output)\n",
    "print(newfilelist)"
   ]
  },
  {
   "cell_type": "code",
   "execution_count": 6,
   "metadata": {},
   "outputs": [],
   "source": [
    "merger = PdfFileMerger()\n",
    "\n",
    "for file_name in newfilelist:\n",
    "    merger.append(file_name)\n",
    "merger.write(\"new.pdf\")"
   ]
  },
  {
   "cell_type": "markdown",
   "metadata": {},
   "source": [
    "* HW2 Take the abstracts of the first 20 papers in the given URL, translate them into Chinese, and \n",
    "write them into the file named 'my_abstract.txt’.\n",
    "\n",
    "\n",
    "URL = https://openaccess.thecvf.com/ICCV2021?day=2021-10-12\n"
   ]
  },
  {
   "cell_type": "code",
   "execution_count": 95,
   "metadata": {},
   "outputs": [],
   "source": [
    "def getUrl(url):\n",
    "    response = requests.get(url)\n",
    "    pdfUrl = []\n",
    "    count = 0\n",
    "    bs = BeautifulSoup(response.text,\"html.parser\")  # Parse the HTML content of the response using BeautifulSoup\n",
    "    pdfs = bs.find_all(href=re.compile('/content/.*html')) # Find all anchor tags with href attribute matching the specified pattern\n",
    "    names = []\n",
    "    for tag in pdfs:\n",
    "        if count < 20:  # Limit the count to 20\n",
    "            pdfUrl.append(\"https://openaccess.thecvf.com\"+tag.get(\"href\"))\n",
    "            count = count+1\n",
    "            # Extract the name from the href attribute and modify it before appending to the names list\n",
    "            names.append(re.split('[./]', tag.get(\"href\"))[-2][:-16].replace(\"_\",\" \")) \n",
    "        else: break\n",
    "    return names,pdfUrl\n",
    "\n",
    "\n",
    "def getAbstract(paperUrls):\n",
    "    abstract = []\n",
    "    for url in paperUrls:\n",
    "        response = requests.get(url)\n",
    "        bs = BeautifulSoup(response.text,\"html.parser\")\n",
    "        abstract.append(bs.find(id=\"abstract\").text.strip()) #get the content of id \"abstract\"\n",
    "    return abstract\n",
    "\n",
    "def translate_api(input_text):\n",
    "    # Set your own appid/appkey.\n",
    "    appid = '20231227001923044'\n",
    "    appkey = 'mTCuoFbvi0KZtJozg_MQ'\n",
    "    def make_md5(s, encoding='utf-8'):\n",
    "        return md5(s.encode(encoding)).hexdigest()\n",
    "    # For list of language codes, please refer to `https://api.fanyi.baidu.com/doc/21`\n",
    "    from_lang = 'en'\n",
    "    to_lang = 'zh'\n",
    "    endpoint = 'http://api.fanyi.baidu.com'\n",
    "    path = '/api/trans/vip/translate'\n",
    "    url = endpoint + path\n",
    "    \n",
    "    query = input_text\n",
    "    # Generate salt and sign\n",
    "    salt = random.randint(32768, 65536)\n",
    "    sign = make_md5(appid + query + str(salt) + appkey)\n",
    "    # Build request\n",
    "    headers = {'Content-Type': 'application/x-www-form-urlencoded'}\n",
    "    payload = {'appid': appid, 'q': query, 'from': from_lang, 'to': to_lang, 'salt': salt, 'sign': sign}\n",
    "    # Send request\n",
    "    r = requests.post(url, params=payload, headers=headers)\n",
    "    result = r.json()\n",
    "    return result['trans_result'][0]['dst']\n",
    "\n",
    "def write2txt(path,title,contents):\n",
    "    with open(path,\"w\") as f:\n",
    "        for ti,con in zip(title,contents):\n",
    "            f.write(ti+\"\\n\")\n",
    "            f.write(con+\"\\n\")\n",
    "            f.write(\"\\n\")"
   ]
  },
  {
   "cell_type": "code",
   "execution_count": 88,
   "metadata": {},
   "outputs": [],
   "source": [
    "import requests\n",
    "from bs4 import BeautifulSoup\n",
    "import re\n",
    "import random\n",
    "from hashlib import md5\n",
    "import time"
   ]
  },
  {
   "cell_type": "code",
   "execution_count": 89,
   "metadata": {},
   "outputs": [],
   "source": [
    "web = \"https://openaccess.thecvf.com/ICCV2021?day=2021-10-12\"\n",
    "name,pdfurls = getUrl(web)\n",
    "abstracts = getAbstract(pdfurls)\n",
    "ch_abstracts = []\n"
   ]
  },
  {
   "cell_type": "code",
   "execution_count": null,
   "metadata": {},
   "outputs": [],
   "source": [
    "for ab in abstracts:\n",
    "    temp = translate_api(ab)\n",
    "    ch_abstracts.append(temp)\n",
    "    time.sleep(1)\n",
    "write2txt(\"./my_abstract.txt\",name,ch_abstracts)"
   ]
  }
 ],
 "metadata": {
  "kernelspec": {
   "display_name": "Module1",
   "language": "python",
   "name": "python3"
  },
  "language_info": {
   "codemirror_mode": {
    "name": "ipython",
    "version": 3
   },
   "file_extension": ".py",
   "mimetype": "text/x-python",
   "name": "python",
   "nbconvert_exporter": "python",
   "pygments_lexer": "ipython3",
   "version": "3.12.0"
  }
 },
 "nbformat": 4,
 "nbformat_minor": 2
}
